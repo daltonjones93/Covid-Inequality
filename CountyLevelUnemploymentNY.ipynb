{
 "cells": [
  {
   "cell_type": "code",
   "execution_count": 1,
   "metadata": {},
   "outputs": [],
   "source": [
    "import numpy as np\n",
    "import pandas as pd\n"
   ]
  },
  {
   "cell_type": "code",
   "execution_count": 2,
   "metadata": {},
   "outputs": [],
   "source": [
    "df = pd.read_csv('CovidDataCleaned.csv')"
   ]
  },
  {
   "cell_type": "code",
   "execution_count": 4,
   "metadata": {},
   "outputs": [],
   "source": [
    "#create county mapping.\n",
    "dfZip = pd.read_csv('ZipToCounty.csv')"
   ]
  },
  {
   "cell_type": "code",
   "execution_count": 20,
   "metadata": {},
   "outputs": [],
   "source": [
    "zips = dfZip['Zip'].values\n",
    "counties = dfZip['County'].values"
   ]
  },
  {
   "cell_type": "code",
   "execution_count": 68,
   "metadata": {},
   "outputs": [],
   "source": [
    "dfUnemp = pd.read_csv('NYCountyUnemployment.csv')"
   ]
  },
  {
   "cell_type": "code",
   "execution_count": 52,
   "metadata": {},
   "outputs": [
    {
     "data": {
      "text/html": [
       "<div>\n",
       "<style scoped>\n",
       "    .dataframe tbody tr th:only-of-type {\n",
       "        vertical-align: middle;\n",
       "    }\n",
       "\n",
       "    .dataframe tbody tr th {\n",
       "        vertical-align: top;\n",
       "    }\n",
       "\n",
       "    .dataframe thead th {\n",
       "        text-align: right;\n",
       "    }\n",
       "</style>\n",
       "<table border=\"1\" class=\"dataframe\">\n",
       "  <thead>\n",
       "    <tr style=\"text-align: right;\">\n",
       "      <th></th>\n",
       "      <th>County</th>\n",
       "      <th>2019 Unemployment</th>\n",
       "      <th>2020 Unemployment</th>\n",
       "      <th>Unnamed: 3</th>\n",
       "      <th>Unnamed: 4</th>\n",
       "      <th>Unnamed: 5</th>\n",
       "      <th>Unnamed: 6</th>\n",
       "    </tr>\n",
       "  </thead>\n",
       "  <tbody>\n",
       "    <tr>\n",
       "      <th>0</th>\n",
       "      <td>Brooklyn</td>\n",
       "      <td>3.5</td>\n",
       "      <td>12.1</td>\n",
       "      <td>NaN</td>\n",
       "      <td>NaN</td>\n",
       "      <td>NaN</td>\n",
       "      <td>NaN</td>\n",
       "    </tr>\n",
       "    <tr>\n",
       "      <th>1</th>\n",
       "      <td>New York</td>\n",
       "      <td>3.9</td>\n",
       "      <td>9.3</td>\n",
       "      <td>NaN</td>\n",
       "      <td>NaN</td>\n",
       "      <td>NaN</td>\n",
       "      <td>NaN</td>\n",
       "    </tr>\n",
       "    <tr>\n",
       "      <th>2</th>\n",
       "      <td>Queens</td>\n",
       "      <td>3.4</td>\n",
       "      <td>11.6</td>\n",
       "      <td>NaN</td>\n",
       "      <td>NaN</td>\n",
       "      <td>NaN</td>\n",
       "      <td>NaN</td>\n",
       "    </tr>\n",
       "    <tr>\n",
       "      <th>3</th>\n",
       "      <td>Bronx</td>\n",
       "      <td>5.8</td>\n",
       "      <td>16.0</td>\n",
       "      <td>NaN</td>\n",
       "      <td>NaN</td>\n",
       "      <td>NaN</td>\n",
       "      <td>NaN</td>\n",
       "    </tr>\n",
       "    <tr>\n",
       "      <th>4</th>\n",
       "      <td>Staten Island</td>\n",
       "      <td>3.8</td>\n",
       "      <td>9.8</td>\n",
       "      <td>NaN</td>\n",
       "      <td>NaN</td>\n",
       "      <td>NaN</td>\n",
       "      <td>NaN</td>\n",
       "    </tr>\n",
       "  </tbody>\n",
       "</table>\n",
       "</div>"
      ],
      "text/plain": [
       "          County  2019 Unemployment  2020 Unemployment  Unnamed: 3  \\\n",
       "0       Brooklyn                3.5               12.1         NaN   \n",
       "1       New York                3.9                9.3         NaN   \n",
       "2         Queens                3.4               11.6         NaN   \n",
       "3          Bronx                5.8               16.0         NaN   \n",
       "4  Staten Island                3.8                9.8         NaN   \n",
       "\n",
       "   Unnamed: 4  Unnamed: 5  Unnamed: 6  \n",
       "0         NaN         NaN         NaN  \n",
       "1         NaN         NaN         NaN  \n",
       "2         NaN         NaN         NaN  \n",
       "3         NaN         NaN         NaN  \n",
       "4         NaN         NaN         NaN  "
      ]
     },
     "execution_count": 52,
     "metadata": {},
     "output_type": "execute_result"
    }
   ],
   "source": [
    "dfUnemp"
   ]
  },
  {
   "cell_type": "code",
   "execution_count": 11,
   "metadata": {},
   "outputs": [
    {
     "name": "stdout",
     "output_type": "stream",
     "text": [
      "['Staten Island', 'Brooklyn', 'New York', 'Queens', 'Bronx']\n"
     ]
    }
   ],
   "source": [
    "print(list(set(list(county))))"
   ]
  },
  {
   "cell_type": "code",
   "execution_count": 13,
   "metadata": {},
   "outputs": [
    {
     "name": "stderr",
     "output_type": "stream",
     "text": [
      "<ipython-input-13-614b0bd9a44c>:1: SettingWithCopyWarning: \n",
      "A value is trying to be set on a copy of a slice from a DataFrame\n",
      "\n",
      "See the caveats in the documentation: https://pandas.pydata.org/pandas-docs/stable/user_guide/indexing.html#returning-a-view-versus-a-copy\n",
      "  dfUnemp['County'][0] = 'Brooklyn'\n"
     ]
    }
   ],
   "source": [
    "dfUnemp['County'][0] = 'Brooklyn'"
   ]
  },
  {
   "cell_type": "code",
   "execution_count": 65,
   "metadata": {},
   "outputs": [
    {
     "data": {
      "text/html": [
       "<div>\n",
       "<style scoped>\n",
       "    .dataframe tbody tr th:only-of-type {\n",
       "        vertical-align: middle;\n",
       "    }\n",
       "\n",
       "    .dataframe tbody tr th {\n",
       "        vertical-align: top;\n",
       "    }\n",
       "\n",
       "    .dataframe thead th {\n",
       "        text-align: right;\n",
       "    }\n",
       "</style>\n",
       "<table border=\"1\" class=\"dataframe\">\n",
       "  <thead>\n",
       "    <tr style=\"text-align: right;\">\n",
       "      <th></th>\n",
       "      <th>County</th>\n",
       "      <th>2019 Unemployment</th>\n",
       "      <th>2020 Unemployment</th>\n",
       "      <th>Unnamed: 3</th>\n",
       "      <th>Unnamed: 4</th>\n",
       "      <th>Unnamed: 5</th>\n",
       "      <th>Unnamed: 6</th>\n",
       "    </tr>\n",
       "  </thead>\n",
       "  <tbody>\n",
       "    <tr>\n",
       "      <th>0</th>\n",
       "      <td>Brooklyn</td>\n",
       "      <td>3.5</td>\n",
       "      <td>12.1</td>\n",
       "      <td>NaN</td>\n",
       "      <td>NaN</td>\n",
       "      <td>NaN</td>\n",
       "      <td>NaN</td>\n",
       "    </tr>\n",
       "    <tr>\n",
       "      <th>1</th>\n",
       "      <td>New York</td>\n",
       "      <td>3.9</td>\n",
       "      <td>9.3</td>\n",
       "      <td>NaN</td>\n",
       "      <td>NaN</td>\n",
       "      <td>NaN</td>\n",
       "      <td>NaN</td>\n",
       "    </tr>\n",
       "    <tr>\n",
       "      <th>2</th>\n",
       "      <td>Queens</td>\n",
       "      <td>3.4</td>\n",
       "      <td>11.6</td>\n",
       "      <td>NaN</td>\n",
       "      <td>NaN</td>\n",
       "      <td>NaN</td>\n",
       "      <td>NaN</td>\n",
       "    </tr>\n",
       "    <tr>\n",
       "      <th>3</th>\n",
       "      <td>Bronx</td>\n",
       "      <td>5.8</td>\n",
       "      <td>16.0</td>\n",
       "      <td>NaN</td>\n",
       "      <td>NaN</td>\n",
       "      <td>NaN</td>\n",
       "      <td>NaN</td>\n",
       "    </tr>\n",
       "    <tr>\n",
       "      <th>4</th>\n",
       "      <td>Staten Island</td>\n",
       "      <td>3.8</td>\n",
       "      <td>9.8</td>\n",
       "      <td>NaN</td>\n",
       "      <td>NaN</td>\n",
       "      <td>NaN</td>\n",
       "      <td>NaN</td>\n",
       "    </tr>\n",
       "  </tbody>\n",
       "</table>\n",
       "</div>"
      ],
      "text/plain": [
       "          County  2019 Unemployment  2020 Unemployment  Unnamed: 3  \\\n",
       "0       Brooklyn                3.5               12.1         NaN   \n",
       "1       New York                3.9                9.3         NaN   \n",
       "2         Queens                3.4               11.6         NaN   \n",
       "3          Bronx                5.8               16.0         NaN   \n",
       "4  Staten Island                3.8                9.8         NaN   \n",
       "\n",
       "   Unnamed: 4  Unnamed: 5  Unnamed: 6  \n",
       "0         NaN         NaN         NaN  \n",
       "1         NaN         NaN         NaN  \n",
       "2         NaN         NaN         NaN  \n",
       "3         NaN         NaN         NaN  \n",
       "4         NaN         NaN         NaN  "
      ]
     },
     "execution_count": 65,
     "metadata": {},
     "output_type": "execute_result"
    }
   ],
   "source": [
    "dfUnemp"
   ]
  },
  {
   "cell_type": "code",
   "execution_count": 16,
   "metadata": {},
   "outputs": [
    {
     "name": "stdout",
     "output_type": "stream",
     "text": [
      "[10280 10282 10301 10302 10303 10304 10305 10306 10307 10308 10309 10310\n",
      " 10312 10314 11354 11355 11356 11357 11358 11360 11361 11362 11363 11364\n",
      " 11365 11366 11367 11368 11369 11370 11372 11373 11374 11375 11377 11378\n",
      " 11379 11385 11411 11412 11413 11414 11415 11416 11417 11418 11419 11420\n",
      " 11421 11422 11423 11426 11427 11428 11429 11432 11433 11434 11435 11436\n",
      " 10451 10452 10453 10454 10455 10456 10457 10458 10459 10460 10461 10462\n",
      " 10463 10464 10465 10466 10467 10468 10469 10470 10471 10472 10473 10474\n",
      " 10475 11004 10001 10002 10003 10004 10005 10006 10007 10009 10010 10011\n",
      " 10012 10013 10014 10016 10017 10018 10019 10021 10022 10023 10024 10025\n",
      " 10026 10027 10028 10029 10030 10031 10032 10033 10034 10035 10036 10037\n",
      " 10038 10039 10040 10044 10065 10069 10075 11101 11102 11103 11104 11105\n",
      " 11106 11109 10128 11691 11692 11693 11694 11697 11201 11203 11204 11205\n",
      " 11206 11207 11208 11209 11210 11211 11212 11213 11214 11215 11216 11217\n",
      " 11218 11219 11220 11221 11222 11223 11224 11225 11226 11228 11229 11230\n",
      " 11231 11232 11233 11234 11235 11236 11237 11238 11239]\n"
     ]
    }
   ],
   "source": [
    "#okay so now we just need to loop through everything and project it.\n",
    "\n",
    "zipcodes = df['zcta'].values\n"
   ]
  },
  {
   "cell_type": "code",
   "execution_count": 60,
   "metadata": {},
   "outputs": [],
   "source": [
    "countyVals = []\n",
    "\n",
    "for z in zipcodes:\n",
    "    try:\n",
    "        county = counties[np.where(zips ==z)[0][0]]\n",
    "        countyVals.append(county)\n",
    "    except:\n",
    "        county = 'New York'\n",
    "        countyVals.append(county)\n",
    "        \n",
    "df['County'] = countyVals\n",
    "\n",
    "    \n"
   ]
  },
  {
   "cell_type": "code",
   "execution_count": 69,
   "metadata": {},
   "outputs": [
    {
     "name": "stdout",
     "output_type": "stream",
     "text": [
      "['New York', 'New York', 'Staten Island', 'Staten Island', 'Staten Island', 'Staten Island', 'Staten Island', 'Staten Island', 'Staten Island', 'Staten Island', 'Staten Island', 'Staten Island', 'Staten Island', 'Staten Island', 'Queens', 'Queens', 'Queens', 'Queens', 'Queens', 'Queens', 'Queens', 'Queens', 'Queens', 'Queens', 'Queens', 'Queens', 'Queens', 'Queens', 'Queens', 'Queens', 'Queens', 'Queens', 'Queens', 'Queens', 'Queens', 'Queens', 'Queens', 'Queens', 'Queens', 'Queens', 'Queens', 'Queens', 'Queens', 'Queens', 'Queens', 'Queens', 'Queens', 'Queens', 'Queens', 'Queens', 'Queens', 'Queens', 'Queens', 'Queens', 'Queens', 'Queens', 'Queens', 'Queens', 'Queens', 'Queens', 'Bronx', 'Bronx', 'Bronx', 'Bronx', 'Bronx', 'Bronx', 'Bronx', 'Bronx', 'Bronx', 'Bronx', 'Bronx', 'Bronx', 'Bronx', 'Bronx', 'Bronx', 'Bronx', 'Bronx', 'Bronx', 'Bronx', 'Bronx', 'Bronx', 'Bronx', 'Bronx', 'Bronx', 'Bronx', 'Queens', 'New York', 'New York', 'New York', 'New York', 'New York', 'New York', 'New York', 'New York', 'New York', 'New York', 'New York', 'New York', 'New York', 'New York', 'New York', 'New York', 'New York', 'New York', 'New York', 'New York', 'New York', 'New York', 'New York', 'New York', 'New York', 'New York', 'New York', 'New York', 'New York', 'New York', 'New York', 'New York', 'New York', 'New York', 'New York', 'New York', 'New York', 'New York', 'New York', 'New York', 'New York', 'Queens', 'Queens', 'Queens', 'Queens', 'Queens', 'Queens', 'Queens', 'New York', 'Queens', 'Queens', 'Queens', 'Queens', 'Queens', 'Brooklyn', 'Brooklyn', 'Brooklyn', 'Brooklyn', 'Brooklyn', 'Brooklyn', 'Brooklyn', 'Brooklyn', 'Brooklyn', 'Brooklyn', 'Brooklyn', 'Brooklyn', 'Brooklyn', 'Brooklyn', 'Brooklyn', 'Brooklyn', 'Brooklyn', 'Brooklyn', 'Brooklyn', 'Brooklyn', 'Brooklyn', 'Brooklyn', 'Brooklyn', 'Brooklyn', 'Brooklyn', 'Brooklyn', 'Brooklyn', 'Brooklyn', 'Brooklyn', 'Brooklyn', 'Brooklyn', 'Brooklyn', 'Brooklyn', 'Brooklyn', 'Brooklyn', 'Brooklyn', 'Brooklyn']\n"
     ]
    }
   ],
   "source": [
    "oldUnemp = df['Unemployment Rate 2019'].values\n",
    "newunemp = np.copy(oldUnemp)\n",
    "i = 0\n",
    "\n",
    "print(countyVals)\n",
    "\n",
    "\n",
    "for c in countyVals:\n",
    "    dfnew = dfUnemp[dfUnemp['County'] == c]\n",
    "    if dfnew.shape[0] ==0:\n",
    "        print(c)\n",
    "        assert False\n",
    "#     print(dfnew)\n",
    "    oldval = dfnew['2019 Unemployment'].values[0]\n",
    "    newval = dfnew['2020 Unemployment'].values[0]\n",
    "    \n",
    "    mult = newval/oldval\n",
    "    newunemp[i]*=mult\n",
    "    i+=1\n",
    "\n",
    "    \n",
    "\n",
    "\n",
    "    \n",
    "    \n",
    "    "
   ]
  },
  {
   "cell_type": "code",
   "execution_count": 70,
   "metadata": {},
   "outputs": [],
   "source": [
    "df['Unemployment 2020 (Projected)'] = newunemp"
   ]
  },
  {
   "cell_type": "code",
   "execution_count": 74,
   "metadata": {},
   "outputs": [],
   "source": [
    "df.to_csv('NYZipDataWithUnemployment.csv',index = False)"
   ]
  },
  {
   "cell_type": "code",
   "execution_count": 73,
   "metadata": {},
   "outputs": [
    {
     "name": "stdout",
     "output_type": "stream",
     "text": [
      "10.412270281831942\n"
     ]
    }
   ],
   "source": [
    "# import matplotlib.pyplot as plt\n",
    "print(np.sum(df['Unemployment 2020 (Projected)'].values)/df.shape[0])"
   ]
  },
  {
   "cell_type": "code",
   "execution_count": 72,
   "metadata": {},
   "outputs": [
    {
     "data": {
      "text/plain": [
       "[<matplotlib.lines.Line2D at 0x7fd6473f6760>]"
      ]
     },
     "execution_count": 72,
     "metadata": {},
     "output_type": "execute_result"
    },
    {
     "data": {
      "image/png": "[encoded data removed]",
      "text/plain": [
       "<Figure size 432x288 with 1 Axes>"
      ]
     },
     "metadata": {
      "needs_background": "light"
     },
     "output_type": "display_data"
    }
   ],
   "source": [
    "dfold = pd.read_csv('oldunemp.csv')\n",
    "plt.plot(dfold['Unemployment 2020 (Projected)'].values)\n",
    "plt.plot(df['Unemployment 2020 (Projected)'].values)"
   ]
  },
  {
   "cell_type": "code",
   "execution_count": null,
   "metadata": {},
   "outputs": [],
   "source": []
  }
 ],
 "metadata": {
  "kernelspec": {
   "display_name": "Python 3",
   "language": "python",
   "name": "python3"
  },
  "language_info": {
   "codemirror_mode": {
    "name": "ipython",
    "version": 3
   },
   "file_extension": ".py",
   "mimetype": "text/x-python",
   "name": "python",
   "nbconvert_exporter": "python",
   "pygments_lexer": "ipython3",
   "version": "3.8.3"
  }
 },
 "nbformat": 4,
 "nbformat_minor": 4
}
