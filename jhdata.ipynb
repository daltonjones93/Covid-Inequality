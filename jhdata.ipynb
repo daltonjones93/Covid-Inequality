{
 "cells": [
  {
   "cell_type": "code",
   "execution_count": 1,
   "metadata": {},
   "outputs": [],
   "source": [
    "import numpy as np\n",
    "import pandas as pd\n",
    "import matplotlib.pyplot as plt\n",
    "\n"
   ]
  },
  {
   "cell_type": "code",
   "execution_count": 2,
   "metadata": {},
   "outputs": [
    {
     "name": "stdout",
     "output_type": "stream",
     "text": [
      "(3340, 290)\n"
     ]
    },
    {
     "data": {
      "image/png": "[encoded data removed]",
      "text/plain": [
       "<Figure size 1080x720 with 1 Axes>"
      ]
     },
     "metadata": {
      "needs_background": "light"
     },
     "output_type": "display_data"
    }
   ],
   "source": [
    "dfCases = pd.read_csv('JHUDataCases.csv')\n",
    "dfDeaths = pd.read_csv('JHUDataDeaths.csv')\n",
    "\n",
    "print(dfCases.shape)\n",
    "\n",
    "randInds = list(np.random.choice(3340,10,replace = False))\n",
    "\n",
    "\n",
    "plt.figure(figsize = (15,10))\n",
    "for r in randInds[:1]:\n",
    "\n",
    "    rowind = 2568\n",
    "    rowCounty = dfCases.iloc[rowind,6]\n",
    "    rowState = dfCases.iloc[rowind,7]\n",
    "    rowPop = dfDeaths.iloc[rowind,12]\n",
    "    \n",
    "    \n",
    "    \n",
    "\n",
    "    row = dfDeaths.iloc[rowind,13:].values\n",
    "    \n",
    "    \n",
    "    \n",
    "    \n",
    "    if float(rowPop)>0:\n",
    "        plt.plot((row/float(rowPop)), label = rowCounty + ' \\n' + rowState)\n",
    "plt.legend()\n",
    "plt.show()"
   ]
  },
  {
   "cell_type": "code",
   "execution_count": 3,
   "metadata": {},
   "outputs": [
    {
     "name": "stdout",
     "output_type": "stream",
     "text": [
      "[['Lincoln Arkansas', 0.17705773955773957], ['Chattahoochee Georgia', 0.15971394517282478], ['Trousdale Tennessee', 0.15730237504431052], ['Lafayette Florida', 0.15103300878651152], ['Lake Tennessee', 0.1403933865450399], ['Dakota Nebraska', 0.12613602316987915], ['Lee Arkansas', 0.12509879191599865], ['Buffalo South Dakota', 0.12079510703363915], ['Buena Vista Iowa', 0.11493374108053007], ['Nobles Minnesota', 0.10485921679226964]]\n"
     ]
    }
   ],
   "source": [
    "deathRateList = []\n",
    "\n",
    "for i in range(3340):\n",
    "    \n",
    "    rowind = i\n",
    "    \n",
    "    rowCounty = dfCases.iloc[rowind,6]\n",
    "    rowState = dfCases.iloc[rowind,7]\n",
    "    rowPop = dfDeaths.iloc[rowind,12]\n",
    "    \n",
    "    if rowPop ==0:\n",
    "        continue\n",
    "    \n",
    "    normalized_deaths = dfCases.iloc[rowind,-1]/float(rowPop)\n",
    "    try:\n",
    "        deathRateList.append([rowCounty+' '+rowState,normalized_deaths])\n",
    "    except:\n",
    "        continue\n",
    "    \n",
    "deathRateList = sorted(deathRateList,key = lambda row: row[1], reverse = True)\n",
    "print(deathRateList[:10])\n",
    "    "
   ]
  },
  {
   "cell_type": "code",
   "execution_count": 5,
   "metadata": {},
   "outputs": [
    {
     "name": "stdout",
     "output_type": "stream",
     "text": [
      "(3340, 291)\n",
      "   Unnamed: 0       UID iso2 iso3  code3    FIPS   Admin2 Province_State  \\\n",
      "0           0  84001001   US  USA    840  1001.0  Autauga        Alabama   \n",
      "1           1  84001003   US  USA    840  1003.0  Baldwin        Alabama   \n",
      "2           2  84001005   US  USA    840  1005.0  Barbour        Alabama   \n",
      "3           3  84001007   US  USA    840  1007.0     Bibb        Alabama   \n",
      "4           4  84001009   US  USA    840  1009.0   Blount        Alabama   \n",
      "\n",
      "  Country_Region        Lat  ...  10/16/20 10/17/20  10/18/20  10/19/20  \\\n",
      "0             US  32.539527  ...        28       28        28        28   \n",
      "1             US  30.727750  ...        67       67        67        67   \n",
      "2             US  31.868263  ...         9        9         9         9   \n",
      "3             US  32.996421  ...        13       13        13        13   \n",
      "4             US  33.982109  ...        23       23        23        23   \n",
      "\n",
      "   10/20/20  10/21/20  10/22/20  10/23/20  10/24/20  10/25/20  \n",
      "0        29        30        30        30        31        31  \n",
      "1        69        69        69        69        69        69  \n",
      "2         9         9         9         9         9         9  \n",
      "3        14        14        14        14        14        14  \n",
      "4        24        25        25        25        25        25  \n",
      "\n",
      "[5 rows x 291 columns]\n"
     ]
    }
   ],
   "source": [
    "dfDeaths = pd.read_csv('JHUDataDeaths.csv')\n",
    "\n",
    "print(dfDeaths.shape)\n",
    "\n",
    "print(dfDeaths.head())\n",
    "\n",
    "#need to loop"
   ]
  },
  {
   "cell_type": "code",
   "execution_count": null,
   "metadata": {},
   "outputs": [],
   "source": []
  }
 ],
 "metadata": {
  "kernelspec": {
   "display_name": "Python 3",
   "language": "python",
   "name": "python3"
  },
  "language_info": {
   "codemirror_mode": {
    "name": "ipython",
    "version": 3
   },
   "file_extension": ".py",
   "mimetype": "text/x-python",
   "name": "python",
   "nbconvert_exporter": "python",
   "pygments_lexer": "ipython3",
   "version": "3.8.3"
  }
 },
 "nbformat": 4,
 "nbformat_minor": 4
}
